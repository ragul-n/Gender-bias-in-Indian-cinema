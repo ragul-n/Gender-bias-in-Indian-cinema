{
  "cells": [
    {
      "cell_type": "markdown",
      "metadata": {
        "id": "view-in-github",
        "colab_type": "text"
      },
      "source": [
        "<a href=\"https://colab.research.google.com/github/ragul-n/Gender-bias-in-Indian-cinema/blob/master/dictionary_generation.ipynb\" target=\"_parent\"><img src=\"https://colab.research.google.com/assets/colab-badge.svg\" alt=\"Open In Colab\"/></a>"
      ]
    },
    {
      "cell_type": "code",
      "execution_count": 1,
      "metadata": {
        "colab": {
          "base_uri": "https://localhost:8080/"
        },
        "id": "8J6NI9x0fcX5",
        "outputId": "206304b3-8016-4969-b144-021e8b38f5a2"
      },
      "outputs": [
        {
          "output_type": "stream",
          "name": "stdout",
          "text": [
            "Cloning into 'socialsent'...\n",
            "remote: Enumerating objects: 218, done.\u001b[K\n",
            "remote: Counting objects: 100% (36/36), done.\u001b[K\n",
            "remote: Compressing objects: 100% (32/32), done.\u001b[K\n",
            "remote: Total 218 (delta 19), reused 8 (delta 4), pack-reused 182\u001b[K\n",
            "Receiving objects: 100% (218/218), 2.62 MiB | 6.57 MiB/s, done.\n",
            "Resolving deltas: 100% (94/94), done.\n"
          ]
        }
      ],
      "source": [
        "!git clone https://github.com/ragul-n/socialsent.git\n",
        "!unzip \"/content/socialsent.zip\""
      ]
    },
    {
      "cell_type": "code",
      "source": [
        "import numpy as np\n",
        "import pandas as pd\n",
        "\n",
        "import nltk \n",
        "nltk.download('stopwords')"
      ],
      "metadata": {
        "colab": {
          "base_uri": "https://localhost:8080/"
        },
        "id": "qUD5Z2EMM-9D",
        "outputId": "4378cb1a-0377-45f3-9033-c278b9b40952"
      },
      "execution_count": 1,
      "outputs": [
        {
          "output_type": "stream",
          "name": "stderr",
          "text": [
            "[nltk_data] Downloading package stopwords to /root/nltk_data...\n",
            "[nltk_data]   Package stopwords is already up-to-date!\n"
          ]
        },
        {
          "output_type": "execute_result",
          "data": {
            "text/plain": [
              "True"
            ]
          },
          "metadata": {},
          "execution_count": 1
        }
      ]
    },
    {
      "cell_type": "code",
      "source": [
        "from gensim.models import KeyedVectors\n",
        "\n",
        "word_vectors= KeyedVectors.load(\"/content/drive/MyDrive/Dataset/word2vec/subtitles_word_emb_v2.kv\")\n",
        "\n"
      ],
      "metadata": {
        "id": "01I81wCiO6v6"
      },
      "execution_count": 2,
      "outputs": []
    },
    {
      "cell_type": "code",
      "source": [
        "from socialsent.socialsent.representations.embedding import Embedding\n",
        "\n",
        "word_vector_pairs = dict({})\n",
        "for idx, key in enumerate(word_vectors.vocab):\n",
        "    word_vector_pairs[key] = word_vectors.get_vector(key)\n",
        "\n",
        "word_vector_pairs=pd.Series(word_vector_pairs)\n",
        "\n",
        "word_embeddings=Embedding(np.stack(word_vector_pairs.values), word_vector_pairs.index)"
      ],
      "metadata": {
        "id": "7bhK7C1cL2nd"
      },
      "execution_count": 10,
      "outputs": []
    },
    {
      "cell_type": "code",
      "source": [
        "from socialsent.socialsent.polarity_induction_methods import densify\n",
        "\n",
        "polarity=densify(word_embeddings, \n",
        "                 positive_seeds=[\"profession\", \"corpor\", \"salari\", \"offic\", \"busi\", \"career\"],  \n",
        "                 negative_seeds=[\"home\", \"child\", \"famili\", \"cousin\", \"marriag\", \"wed\"])\n"
      ],
      "metadata": {
        "id": "tvdh5biJLtjg"
      },
      "execution_count": null,
      "outputs": []
    }
  ],
  "metadata": {
    "colab": {
      "provenance": [],
      "mount_file_id": "1UIRAucc3cTmotiNyaqdYo4tdkBtEYHUg",
      "authorship_tag": "ABX9TyOAGPcWpyNK9HtUTwEpk8gz",
      "include_colab_link": true
    },
    "kernelspec": {
      "display_name": "Python 3",
      "name": "python3"
    },
    "language_info": {
      "name": "python"
    }
  },
  "nbformat": 4,
  "nbformat_minor": 0
}