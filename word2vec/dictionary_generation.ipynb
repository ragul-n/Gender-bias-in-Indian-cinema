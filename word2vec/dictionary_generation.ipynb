{
  "cells": [
    {
      "cell_type": "markdown",
      "metadata": {
        "id": "view-in-github",
        "colab_type": "text"
      },
      "source": [
        "<a href=\"https://colab.research.google.com/github/ragul-n/Gender-bias-in-Indian-cinema/blob/master/dictionary_generation.ipynb\" target=\"_parent\"><img src=\"https://colab.research.google.com/assets/colab-badge.svg\" alt=\"Open In Colab\"/></a>"
      ]
    },
    {
      "cell_type": "code",
      "execution_count": 1,
      "metadata": {
        "colab": {
          "base_uri": "https://localhost:8080/"
        },
        "id": "8J6NI9x0fcX5",
        "outputId": "a9d9c789-ed51-4359-a03d-8d6ada8e0886"
      },
      "outputs": [
        {
          "output_type": "stream",
          "name": "stdout",
          "text": [
            "Cloning into 'socialsent'...\n",
            "remote: Enumerating objects: 230, done.\u001b[K\n",
            "remote: Counting objects: 100% (48/48), done.\u001b[K\n",
            "remote: Compressing objects: 100% (32/32), done.\u001b[K\n",
            "remote: Total 230 (delta 28), reused 26 (delta 16), pack-reused 182\u001b[K\n",
            "Receiving objects: 100% (230/230), 2.62 MiB | 6.61 MiB/s, done.\n",
            "Resolving deltas: 100% (103/103), done.\n",
            "unzip:  cannot find or open /content/socialsent.zip, /content/socialsent.zip.zip or /content/socialsent.zip.ZIP.\n"
          ]
        }
      ],
      "source": [
        "!git clone https://github.com/ragul-n/socialsent.git\n",
        "!unzip \"/content/socialsent.zip\""
      ]
    },
    {
      "cell_type": "code",
      "source": [
        "!pip install theano"
      ],
      "metadata": {
        "colab": {
          "base_uri": "https://localhost:8080/"
        },
        "id": "HJGb99El-mc-",
        "outputId": "f85dd14d-e626-422d-dcb2-5c78714e9105"
      },
      "execution_count": 2,
      "outputs": [
        {
          "output_type": "stream",
          "name": "stdout",
          "text": [
            "Looking in indexes: https://pypi.org/simple, https://us-python.pkg.dev/colab-wheels/public/simple/\n",
            "Collecting theano\n",
            "  Downloading Theano-1.0.5.tar.gz (2.8 MB)\n",
            "\u001b[K     |████████████████████████████████| 2.8 MB 7.1 MB/s \n",
            "\u001b[?25hRequirement already satisfied: numpy>=1.9.1 in /usr/local/lib/python3.8/dist-packages (from theano) (1.21.6)\n",
            "Requirement already satisfied: scipy>=0.14 in /usr/local/lib/python3.8/dist-packages (from theano) (1.7.3)\n",
            "Requirement already satisfied: six>=1.9.0 in /usr/local/lib/python3.8/dist-packages (from theano) (1.15.0)\n",
            "Building wheels for collected packages: theano\n",
            "  Building wheel for theano (setup.py) ... \u001b[?25l\u001b[?25hdone\n",
            "  Created wheel for theano: filename=Theano-1.0.5-py3-none-any.whl size=2668112 sha256=6eafe150d7b3c8f5388faae0a15b12641d40dde7385ba83c5272b9234cfc95ee\n",
            "  Stored in directory: /root/.cache/pip/wheels/84/cb/19/235b5b10d89b4621f685112f8762681570a9fa14dc1ce904d9\n",
            "Successfully built theano\n",
            "Installing collected packages: theano\n",
            "Successfully installed theano-1.0.5\n"
          ]
        }
      ]
    },
    {
      "cell_type": "code",
      "source": [
        "import numpy as np\n",
        "import pandas as pd\n",
        "import nltk \n",
        "nltk.download('stopwords')"
      ],
      "metadata": {
        "colab": {
          "base_uri": "https://localhost:8080/"
        },
        "id": "qUD5Z2EMM-9D",
        "outputId": "ca75bb58-4159-4a21-cf29-7b07da263aed"
      },
      "execution_count": 193,
      "outputs": [
        {
          "output_type": "stream",
          "name": "stderr",
          "text": [
            "[nltk_data] Downloading package stopwords to /root/nltk_data...\n",
            "[nltk_data]   Package stopwords is already up-to-date!\n"
          ]
        },
        {
          "output_type": "execute_result",
          "data": {
            "text/plain": [
              "True"
            ]
          },
          "metadata": {},
          "execution_count": 193
        }
      ]
    },
    {
      "cell_type": "code",
      "source": [
        "from gensim.models import KeyedVectors\n",
        "\n",
        "word_vectors= KeyedVectors.load(\"/content/drive/MyDrive/Dataset/word2vec/subtitles_word_emb_v6.word_vectors\")\n",
        "\n"
      ],
      "metadata": {
        "id": "01I81wCiO6v6"
      },
      "execution_count": 194,
      "outputs": []
    },
    {
      "cell_type": "code",
      "source": [
        "from socialsent.socialsent.representations.embedding import Embedding\n",
        "\n",
        "word_vector_pairs = dict({})\n",
        "for idx, key in enumerate(word_vectors.vocab):\n",
        "    word_vector_pairs[key] = word_vectors.get_vector(key)\n",
        "\n",
        "word_vector_pairs=pd.Series(word_vector_pairs)\n",
        "\n",
        "word_embeddings=Embedding(np.stack(word_vector_pairs.values), word_vector_pairs.index)"
      ],
      "metadata": {
        "id": "7bhK7C1cL2nd"
      },
      "execution_count": 195,
      "outputs": []
    },
    {
      "cell_type": "code",
      "source": [
        "%load_ext autoreload"
      ],
      "metadata": {
        "id": "_mihlH6DILKT",
        "colab": {
          "base_uri": "https://localhost:8080/"
        },
        "outputId": "7e6cbde1-975d-410e-f1e3-01b6758f1622"
      },
      "execution_count": 84,
      "outputs": [
        {
          "output_type": "stream",
          "name": "stdout",
          "text": [
            "The autoreload extension is already loaded. To reload it, use:\n",
            "  %reload_ext autoreload\n"
          ]
        },
        {
          "output_type": "execute_result",
          "data": {
            "text/plain": [
              "27602"
            ]
          },
          "metadata": {},
          "execution_count": 84
        }
      ]
    },
    {
      "cell_type": "code",
      "source": [
        "%autoreload 2\n",
        "from socialsent.socialsent.polarity_induction_methods import densify\n",
        "\n",
        "polarity=densify(word_embeddings, \n",
        "                 positive_seeds=[\"career\",\"profession\", \"corpor\", \"salari\", \"offici\", \"busi\" ],  \n",
        "                 negative_seeds=[\"home\", \"child\", \"famili\", \"cousin\", \"marriag\", \"wed\"])\n",
        "        \n"
      ],
      "metadata": {
        "id": "tvdh5biJLtjg",
        "colab": {
          "base_uri": "https://localhost:8080/"
        },
        "outputId": "296459a0-c4bb-4dad-defd-48b1f88d8a3a"
      },
      "execution_count": 196,
      "outputs": [
        {
          "output_type": "stream",
          "name": "stdout",
          "text": [
            "Preparing to learn embedding tranformation\n",
            "Learning embedding transformation\n",
            "Epoch: 1 Loss: -0.011975004337728024\n",
            "Epoch: 2 Loss: -0.018415210768580437\n",
            "Epoch: 3 Loss: -0.02420518919825554\n",
            "Epoch: 4 Loss: -0.029281074181199074\n",
            "Epoch: 5 Loss: -0.03363789990544319\n"
          ]
        }
      ]
    },
    {
      "cell_type": "code",
      "source": [
        "polarity=pd.Series(polarity)\n",
        "polarity=(polarity-polarity.mean())/polarity.std()"
      ],
      "metadata": {
        "id": "scCGwgpUTMzK"
      },
      "execution_count": 197,
      "outputs": []
    },
    {
      "cell_type": "code",
      "source": [
        "high_polarity=polarity[(polarity>2) + (polarity<-2)].sort_values()"
      ],
      "metadata": {
        "id": "AYz06tYCTzFX"
      },
      "execution_count": 200,
      "outputs": []
    },
    {
      "cell_type": "code",
      "source": [
        "print(\"Top 20 Positive Words:\\n\",high_polarity[-20:])\n",
        "print()\n",
        "print(\"Top 20 Negative Words:\\n\", high_polarity[:20])"
      ],
      "metadata": {
        "colab": {
          "base_uri": "https://localhost:8080/"
        },
        "id": "Xj6zckiPVCA1",
        "outputId": "fe41d065-8765-49f8-944e-bcf9fbaa0c59"
      },
      "execution_count": 208,
      "outputs": [
        {
          "output_type": "stream",
          "name": "stdout",
          "text": [
            "Top 20 Positive Words:\n",
            " noida            3.142402\n",
            "ba               3.146924\n",
            "commiss          3.158805\n",
            "margin           3.165213\n",
            "illeg            3.166429\n",
            "multin           3.169315\n",
            "mnc              3.233893\n",
            "firm             3.241313\n",
            "traine           3.246798\n",
            "dean             3.276607\n",
            "infrastructur    3.298714\n",
            "branch           3.319574\n",
            "gurgaon          3.395784\n",
            "mart             3.401303\n",
            "hr               3.451258\n",
            "busi             3.577356\n",
            "contractor       3.618554\n",
            "govern           3.763551\n",
            "blacklist        3.820889\n",
            "corpor           4.394174\n",
            "dtype: float32\n",
            "\n",
            "Top 20 Negative Words:\n",
            " wed           -3.665559\n",
            "courtesan     -3.623161\n",
            "bridal        -3.448468\n",
            "home          -3.399797\n",
            "child         -3.363264\n",
            "heirloom      -3.353174\n",
            "groom         -3.336725\n",
            "dishonour     -3.321970\n",
            "bvndl         -3.279756\n",
            "baptiz        -3.223227\n",
            "pardhu        -3.195765\n",
            "fukri         -3.177620\n",
            "marriag       -3.158957\n",
            "paramour      -3.157662\n",
            "dishonor      -3.155554\n",
            "zubeida       -3.154561\n",
            "mahalaya      -3.139421\n",
            "haimavathi    -3.105199\n",
            "amba          -3.077292\n",
            "memorabilia   -3.056067\n",
            "dtype: float32\n"
          ]
        }
      ]
    },
    {
      "cell_type": "code",
      "source": [
        "!zip -r \"/content/socialsent.zip\" \"/content/socialsent\""
      ],
      "metadata": {
        "id": "Q5cNdcFoWupY"
      },
      "execution_count": null,
      "outputs": []
    }
  ],
  "metadata": {
    "colab": {
      "provenance": [],
      "mount_file_id": "1UIRAucc3cTmotiNyaqdYo4tdkBtEYHUg",
      "authorship_tag": "ABX9TyOCJ/5TEa5ZkkHdAyuu8tr7",
      "include_colab_link": true
    },
    "kernelspec": {
      "display_name": "Python 3",
      "name": "python3"
    },
    "language_info": {
      "name": "python"
    },
    "gpuClass": "standard"
  },
  "nbformat": 4,
  "nbformat_minor": 0
}