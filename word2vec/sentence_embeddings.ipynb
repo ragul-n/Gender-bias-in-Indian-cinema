{
  "nbformat": 4,
  "nbformat_minor": 0,
  "metadata": {
    "colab": {
      "provenance": [],
      "mount_file_id": "1CbwZDql3ohDSO2247WK7-p0zkynd41St",
      "authorship_tag": "ABX9TyPnPV7orSUijvojcCsufx+q",
      "include_colab_link": true
    },
    "kernelspec": {
      "name": "python3",
      "display_name": "Python 3"
    },
    "language_info": {
      "name": "python"
    }
  },
  "cells": [
    {
      "cell_type": "markdown",
      "metadata": {
        "id": "view-in-github",
        "colab_type": "text"
      },
      "source": [
        "<a href=\"https://colab.research.google.com/github/ragul-n/Gender-bias-in-Indian-cinema/blob/master/sentence_embeddings.ipynb\" target=\"_parent\"><img src=\"https://colab.research.google.com/assets/colab-badge.svg\" alt=\"Open In Colab\"/></a>"
      ]
    },
    {
      "cell_type": "code",
      "execution_count": null,
      "metadata": {
        "id": "htls5y2Fa2Ke"
      },
      "outputs": [],
      "source": [
        "!pip install -U fse"
      ]
    },
    {
      "cell_type": "code",
      "source": [
        "pip install --upgrade numpy"
      ],
      "metadata": {
        "id": "NGKEKkbfxuu2"
      },
      "execution_count": null,
      "outputs": []
    },
    {
      "cell_type": "code",
      "source": [
        "!pip install --upgrade scipy "
      ],
      "metadata": {
        "id": "QWmDhvdpj11o"
      },
      "execution_count": null,
      "outputs": []
    },
    {
      "cell_type": "code",
      "source": [
        "import numpy as np\n",
        "import pandas as pd\n",
        "import nltk "
      ],
      "metadata": {
        "id": "gBEAM7x9bS9D"
      },
      "execution_count": 2,
      "outputs": []
    },
    {
      "cell_type": "code",
      "source": [
        "from nltk.stem.snowball import SnowballStemmer\n",
        "\n",
        "def read_file(filename):\n",
        "    with open(filename, 'r') as f:\n",
        "        lines = f.readlines()\n",
        "    sents=[line.split() for line in lines]\n",
        "\n",
        "    stemmer = SnowballStemmer(\"english\")\n",
        "\n",
        "    stemed_sents=[[stemmer.stem(word) for word in sent] for sent in sents]\n",
        "    return  stemed_sents"
      ],
      "metadata": {
        "id": "IRI3J05xdhGs"
      },
      "execution_count": null,
      "outputs": []
    },
    {
      "cell_type": "code",
      "source": [
        "sents = read_file(\"/content/drive/MyDrive/Dataset/subtitles_sents.txt\")"
      ],
      "metadata": {
        "id": "d74y4rn-d3Pk"
      },
      "execution_count": null,
      "outputs": []
    },
    {
      "cell_type": "code",
      "source": [
        "from fse import IndexedList\n",
        "\n",
        "indexed_sents = IndexedList(sents)"
      ],
      "metadata": {
        "id": "MO4ESbX2uxJg"
      },
      "execution_count": null,
      "outputs": []
    },
    {
      "cell_type": "code",
      "source": [
        "from gensim.models import KeyedVectors\n",
        "from gensim.models import Word2Vec\n",
        "from gensim.models.callbacks import CallbackAny2Vec\n",
        "\n",
        "\n",
        "class callback(CallbackAny2Vec):\n",
        "    \"\"\"\n",
        "    Callback to print loss after each epoch\n",
        "    \"\"\"\n",
        "    def __init__(self):\n",
        "        self.epoch = 0\n",
        "\n",
        "    def on_epoch_end(self, model):\n",
        "        loss = model.get_latest_training_loss()\n",
        "        if self.epoch == 0:\n",
        "            print('Loss after epoch {}: {}'.format(self.epoch, loss))\n",
        "        else:\n",
        "            print('Loss after epoch {}: {}'.format(self.epoch, loss- self.loss_previous_step))\n",
        "        self.epoch += 1\n",
        "        self.loss_previous_step = loss\n",
        "\n",
        "        model.save('/content/drive/MyDrive/Dataset/word2vec/subtitles_v6')\n",
        "        model.wv.save(\"/content/drive/MyDrive/Dataset/word2vec/subtitles_word_emb_v6.word_vectors\")\n",
        "\n",
        "\n",
        "word_vectors= Word2Vec.load(\"/content/drive/MyDrive/Dataset/word2vec/subtitles_v6\")\n",
        "model= KeyedVectors.load(\"/content/drive/MyDrive/Dataset/word2vec/subtitles_word_emb_v6.word_vectors\")\n",
        "\n"
      ],
      "metadata": {
        "id": "CYjueui8eGGW"
      },
      "execution_count": null,
      "outputs": []
    },
    {
      "cell_type": "code",
      "source": [
        "from fse import Vectors\n",
        "\n",
        "from fse.models.average import FAST_VERSION, MAX_WORDS_IN_BATCH\n",
        "\n",
        "print(MAX_WORDS_IN_BATCH)\n",
        "print(FAST_VERSION)"
      ],
      "metadata": {
        "colab": {
          "base_uri": "https://localhost:8080/"
        },
        "id": "zHTstdXMvl1w",
        "outputId": "afdd9a3f-1eb1-4c30-98fe-7da165dcc5ee"
      },
      "execution_count": null,
      "outputs": [
        {
          "output_type": "stream",
          "name": "stdout",
          "text": [
            "10000\n",
            "1\n"
          ]
        }
      ]
    },
    {
      "cell_type": "code",
      "source": [
        "from fse.models import SIF\n",
        "model = SIF(model, workers=2)"
      ],
      "metadata": {
        "id": "ejv8WB1VztBk"
      },
      "execution_count": null,
      "outputs": []
    },
    {
      "cell_type": "code",
      "source": [
        "model.train(indexed_sents)"
      ],
      "metadata": {
        "colab": {
          "base_uri": "https://localhost:8080/"
        },
        "id": "LGOkKUXXz0Ce",
        "outputId": "8911565c-b02d-4828-cb5f-534a69985363"
      },
      "execution_count": null,
      "outputs": [
        {
          "output_type": "execute_result",
          "data": {
            "text/plain": [
              "(4512730, 17423381)"
            ]
          },
          "metadata": {},
          "execution_count": 8
        }
      ]
    },
    {
      "cell_type": "code",
      "source": [
        "model.save(\"/content/drive/MyDrive/Dataset/word2vec/subtitles_fse.model\")"
      ],
      "metadata": {
        "id": "CMdfpVk-HBkd"
      },
      "execution_count": 11,
      "outputs": []
    }
  ]
}