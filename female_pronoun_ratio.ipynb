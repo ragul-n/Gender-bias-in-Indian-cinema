{
 "cells": [
  {
   "cell_type": "code",
   "execution_count": 82,
   "id": "4ce5f42a",
   "metadata": {},
   "outputs": [],
   "source": [
    "import pandas as pd\n",
    "import numpy as np\n",
    "import os\n",
    "import matplotlib.pyplot as plt\n",
    "import seaborn as sns"
   ]
  },
  {
   "cell_type": "code",
   "execution_count": 13,
   "id": "d95dd1e1",
   "metadata": {},
   "outputs": [
    {
     "data": {
      "text/plain": [
       "0.24965986394557824"
      ]
     },
     "execution_count": 13,
     "metadata": {},
     "output_type": "execute_result"
    }
   ],
   "source": [
    "f=open(\"subtitles/tt9900782_subtitle\").read().lower()\n",
    "(f.count(\"she\")+f.count(\"her\"))/(f.count(\"he\")+f.count(\"him\"))"
   ]
  },
  {
   "cell_type": "code",
   "execution_count": 34,
   "id": "9b480e53",
   "metadata": {},
   "outputs": [
    {
     "data": {
      "text/html": [
       "<div>\n",
       "<style scoped>\n",
       "    .dataframe tbody tr th:only-of-type {\n",
       "        vertical-align: middle;\n",
       "    }\n",
       "\n",
       "    .dataframe tbody tr th {\n",
       "        vertical-align: top;\n",
       "    }\n",
       "\n",
       "    .dataframe thead th {\n",
       "        text-align: right;\n",
       "    }\n",
       "</style>\n",
       "<table border=\"1\" class=\"dataframe\">\n",
       "  <thead>\n",
       "    <tr style=\"text-align: right;\">\n",
       "      <th></th>\n",
       "      <th>imdb_id</th>\n",
       "      <th>file_id</th>\n",
       "      <th>language</th>\n",
       "      <th>from_trusted</th>\n",
       "      <th>ai_translated</th>\n",
       "      <th>machine_translated</th>\n",
       "    </tr>\n",
       "  </thead>\n",
       "  <tbody>\n",
       "    <tr>\n",
       "      <th>0</th>\n",
       "      <td>tt0493437</td>\n",
       "      <td>3755364.0</td>\n",
       "      <td>en</td>\n",
       "      <td>False</td>\n",
       "      <td>False</td>\n",
       "      <td>False</td>\n",
       "    </tr>\n",
       "    <tr>\n",
       "      <th>1</th>\n",
       "      <td>tt0829459</td>\n",
       "      <td>4592347.0</td>\n",
       "      <td>en</td>\n",
       "      <td>False</td>\n",
       "      <td>False</td>\n",
       "      <td>False</td>\n",
       "    </tr>\n",
       "    <tr>\n",
       "      <th>2</th>\n",
       "      <td>tt5684550</td>\n",
       "      <td>1174852.0</td>\n",
       "      <td>en</td>\n",
       "      <td>False</td>\n",
       "      <td>False</td>\n",
       "      <td>False</td>\n",
       "    </tr>\n",
       "    <tr>\n",
       "      <th>3</th>\n",
       "      <td>tt2302945</td>\n",
       "      <td>1001306.0</td>\n",
       "      <td>en</td>\n",
       "      <td>False</td>\n",
       "      <td>False</td>\n",
       "      <td>False</td>\n",
       "    </tr>\n",
       "    <tr>\n",
       "      <th>4</th>\n",
       "      <td>tt6517874</td>\n",
       "      <td>1214489.0</td>\n",
       "      <td>en</td>\n",
       "      <td>False</td>\n",
       "      <td>False</td>\n",
       "      <td>False</td>\n",
       "    </tr>\n",
       "  </tbody>\n",
       "</table>\n",
       "</div>"
      ],
      "text/plain": [
       "     imdb_id    file_id language  from_trusted  ai_translated  \\\n",
       "0  tt0493437  3755364.0       en         False          False   \n",
       "1  tt0829459  4592347.0       en         False          False   \n",
       "2  tt5684550  1174852.0       en         False          False   \n",
       "3  tt2302945  1001306.0       en         False          False   \n",
       "4  tt6517874  1214489.0       en         False          False   \n",
       "\n",
       "   machine_translated  \n",
       "0               False  \n",
       "1               False  \n",
       "2               False  \n",
       "3               False  \n",
       "4               False  "
      ]
     },
     "execution_count": 34,
     "metadata": {},
     "output_type": "execute_result"
    }
   ],
   "source": [
    "subtitles_data=pd.read_csv(\"OpenSubtitles_file_ids.csv\")\n",
    "subtitles_data.head()\n",
    "\n",
    "\n",
    "ds= [i[:9] for i in os.listdir(\"subtitles\")[1:]]\n",
    "subtitles_data=subtitles_data[subtitles_data.imdb_id.isin(ids)]\n",
    "\n",
    "subtitles_data.head()\n"
   ]
  },
  {
   "cell_type": "code",
   "execution_count": 33,
   "id": "3ae1ca00",
   "metadata": {},
   "outputs": [],
   "source": [
    "ids= [i[:9] for i in os.listdir(\"subtitles\")[1:]]\n",
    "subtitles_data=subtitles_data[subtitles_data.imdb_id.isin(ids)]"
   ]
  },
  {
   "cell_type": "code",
   "execution_count": 72,
   "id": "213a8891",
   "metadata": {},
   "outputs": [],
   "source": [
    "bias_score=[]\n",
    "for imdb_id in subtitles_data.imdb_id:\n",
    "    subtitles=open(\"subtitles/\"+imdb_id+\"_subtitle\", encoding=\"utf-8\").read().lower()\n",
    "    he=subtitles.count(\" he \")\n",
    "    she=subtitles.count(\" she \")\n",
    "    him=subtitles.count(\" him \")\n",
    "    his=subtitles.count(\" his \")\n",
    "    her=subtitles.count(\" her \")\n",
    "    \n",
    "    \n",
    "    if he+him+his+she+her>0:\n",
    "        bias_score.append((she+her)/(she+her+him+his+he))\n",
    "    else:\n",
    "        bias_score.append(np.nan)\n",
    "    "
   ]
  },
  {
   "cell_type": "code",
   "execution_count": 73,
   "id": "706ceb5f",
   "metadata": {},
   "outputs": [],
   "source": [
    "subtitles_data[\"bias_score\"]= bias_score"
   ]
  },
  {
   "cell_type": "code",
   "execution_count": 74,
   "id": "97d7a6f4",
   "metadata": {},
   "outputs": [
    {
     "data": {
      "text/plain": [
       "3178"
      ]
     },
     "execution_count": 74,
     "metadata": {},
     "output_type": "execute_result"
    }
   ],
   "source": [
    "movies_data= pd.read_csv(\"indian movies.csv\")\n",
    "movies_data[\"Year\"]= movies_data.Year.str.extract(\"(\\d{4})\").loc[:,0]\n",
    "movies_data[\"Year\"]=[float(i) for i in movies_data.Year]\n",
    "\n",
    "\n",
    "data=subtitles_data.merge(movies_data, how=\"left\", left_on=\"imdb_id\", right_on=\"ID\")\n",
    "data=data[data.Year>=2000]\n",
    "data=data[data.Language.isin([\"hindi\",\"tamil\",\"telugu\",\"malayalam\",\"urdu\",\"bengali\",\"punjabi\",\"oriya\",\"kannada\",\"nepali\",\"marathi\"])]\n",
    "len(data)"
   ]
  },
  {
   "cell_type": "code",
   "execution_count": 98,
   "id": "04d9a376",
   "metadata": {},
   "outputs": [
    {
     "data": {
      "text/plain": [
       "Text(0.5, 1.0, 'Female Pronoun Ratio')"
      ]
     },
     "execution_count": 98,
     "metadata": {},
     "output_type": "execute_result"
    },
    {
     "data": {
      "image/png": "[encoded data removed]",
      "text/plain": [
       "<Figure size 864x432 with 1 Axes>"
      ]
     },
     "metadata": {
      "needs_background": "light"
     },
     "output_type": "display_data"
    }
   ],
   "source": [
    "fig,ax=plt.subplots(figsize=(12,6))\n",
    "sns.barplot(data=data, x=\"Language\",y=\"bias_score\", color=\"lightblue\", ci=0)\n",
    "plt.title(\"Female Pronoun Ratio\", size=14)"
   ]
  },
  {
   "cell_type": "code",
   "execution_count": 99,
   "id": "29c17616",
   "metadata": {},
   "outputs": [
    {
     "data": {
      "text/plain": [
       "Text(0.5, 1.0, 'Female Pronoun Ratio')"
      ]
     },
     "execution_count": 99,
     "metadata": {},
     "output_type": "execute_result"
    },
    {
     "data": {
      "image/png": "[encoded data removed]",
      "text/plain": [
       "<Figure size 864x432 with 1 Axes>"
      ]
     },
     "metadata": {
      "needs_background": "light"
     },
     "output_type": "display_data"
    }
   ],
   "source": [
    "fig,ax=plt.subplots(figsize=(12,6))\n",
    "sns.pointplot(data=data, x=data.Year.astype(\"int64\"),y=\"bias_score\", color=\"lightblue\", ci=0)\n",
    "plt.title(\"Female Pronoun Ratio\", size=14)"
   ]
  }
 ],
 "metadata": {
  "kernelspec": {
   "display_name": "Python 3",
   "language": "python",
   "name": "python3"
  },
  "language_info": {
   "codemirror_mode": {
    "name": "ipython",
    "version": 3
   },
   "file_extension": ".py",
   "mimetype": "text/x-python",
   "name": "python",
   "nbconvert_exporter": "python",
   "pygments_lexer": "ipython3",
   "version": "3.8.8"
  },
  "latex_envs": {
   "LaTeX_envs_menu_present": true,
   "autoclose": true,
   "autocomplete": true,
   "bibliofile": "biblio.bib",
   "cite_by": "apalike",
   "current_citInitial": 1,
   "eqLabelWithNumbers": true,
   "eqNumInitial": 1,
   "hotkeys": {
    "equation": "Ctrl-E",
    "itemize": "Ctrl-I"
   },
   "labels_anchors": false,
   "latex_user_defs": false,
   "report_style_numbering": false,
   "user_envs_cfg": false
  }
 },
 "nbformat": 4,
 "nbformat_minor": 5
}
